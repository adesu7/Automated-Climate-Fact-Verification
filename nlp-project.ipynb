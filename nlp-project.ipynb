{
 "cells": [
  {
   "cell_type": "code",
   "execution_count": 1,
   "metadata": {},
   "outputs": [],
   "source": [
    "import json\n",
    "import pandas as pd"
   ]
  },
  {
   "cell_type": "code",
   "execution_count": 2,
   "metadata": {},
   "outputs": [],
   "source": [
    "# Load the data\n",
    "with open('data/train-claims.json') as f:\n",
    "    train_data = json.load(f)\n",
    "\n",
    "with open('data/dev-claims.json') as f:\n",
    "    dev_data = json.load(f)\n",
    "\n",
    "with open('data/test-claims-unlabelled.json') as f:\n",
    "    test_data = json.load(f)\n",
    "\n",
    "with open('data/evidence.json') as f:\n",
    "    evidence_data = json.load(f)\n"
   ]
  },
  {
   "cell_type": "code",
   "execution_count": 3,
   "metadata": {},
   "outputs": [
    {
     "data": {
      "text/html": [
       "<div>\n",
       "<style scoped>\n",
       "    .dataframe tbody tr th:only-of-type {\n",
       "        vertical-align: middle;\n",
       "    }\n",
       "\n",
       "    .dataframe tbody tr th {\n",
       "        vertical-align: top;\n",
       "    }\n",
       "\n",
       "    .dataframe thead th {\n",
       "        text-align: right;\n",
       "    }\n",
       "</style>\n",
       "<table border=\"1\" class=\"dataframe\">\n",
       "  <thead>\n",
       "    <tr style=\"text-align: right;\">\n",
       "      <th></th>\n",
       "      <th>claim_text</th>\n",
       "      <th>evidences</th>\n",
       "      <th>label</th>\n",
       "    </tr>\n",
       "  </thead>\n",
       "  <tbody>\n",
       "    <tr>\n",
       "      <th>0</th>\n",
       "      <td>Not only is there no scientific evidence that ...</td>\n",
       "      <td>[At very high concentrations (100 times atmosp...</td>\n",
       "      <td>DISPUTED</td>\n",
       "    </tr>\n",
       "    <tr>\n",
       "      <th>1</th>\n",
       "      <td>El Niño drove record highs in global temperatu...</td>\n",
       "      <td>[While ‘climate change’ can be due to natural ...</td>\n",
       "      <td>REFUTES</td>\n",
       "    </tr>\n",
       "    <tr>\n",
       "      <th>2</th>\n",
       "      <td>In 1946, PDO switched to a cool phase.</td>\n",
       "      <td>[There is evidence of reversals in the prevail...</td>\n",
       "      <td>SUPPORTS</td>\n",
       "    </tr>\n",
       "    <tr>\n",
       "      <th>3</th>\n",
       "      <td>Weather Channel co-founder John Coleman provid...</td>\n",
       "      <td>[There is no convincing scientific evidence th...</td>\n",
       "      <td>DISPUTED</td>\n",
       "    </tr>\n",
       "    <tr>\n",
       "      <th>4</th>\n",
       "      <td>\"January 2008 capped a 12 month period of glob...</td>\n",
       "      <td>[With average temperature +8.1 °C (47 °F)., Th...</td>\n",
       "      <td>NOT_ENOUGH_INFO</td>\n",
       "    </tr>\n",
       "    <tr>\n",
       "      <th>...</th>\n",
       "      <td>...</td>\n",
       "      <td>...</td>\n",
       "      <td>...</td>\n",
       "    </tr>\n",
       "    <tr>\n",
       "      <th>1223</th>\n",
       "      <td>Climate scientists say that aspects of the cas...</td>\n",
       "      <td>[\"It's a fact: climate change made Hurricane H...</td>\n",
       "      <td>SUPPORTS</td>\n",
       "    </tr>\n",
       "    <tr>\n",
       "      <th>1224</th>\n",
       "      <td>In its 5th assessment report in 2013, the IPCC...</td>\n",
       "      <td>[The scientific consensus as of 2013[update], ...</td>\n",
       "      <td>SUPPORTS</td>\n",
       "    </tr>\n",
       "    <tr>\n",
       "      <th>1225</th>\n",
       "      <td>Since the mid 1970s, global temperatures have ...</td>\n",
       "      <td>[Global Warming of 1.5 °C., Multiple independe...</td>\n",
       "      <td>NOT_ENOUGH_INFO</td>\n",
       "    </tr>\n",
       "    <tr>\n",
       "      <th>1226</th>\n",
       "      <td>But abnormal temperature spikes in February an...</td>\n",
       "      <td>[A lower air temperature of −94.7 °C (−138.5 °...</td>\n",
       "      <td>NOT_ENOUGH_INFO</td>\n",
       "    </tr>\n",
       "    <tr>\n",
       "      <th>1227</th>\n",
       "      <td>Sending oscillating microwaves from an antenna...</td>\n",
       "      <td>[Dielectric heating, also known as electronic ...</td>\n",
       "      <td>SUPPORTS</td>\n",
       "    </tr>\n",
       "  </tbody>\n",
       "</table>\n",
       "<p>1228 rows × 3 columns</p>\n",
       "</div>"
      ],
      "text/plain": [
       "                                             claim_text  \\\n",
       "0     Not only is there no scientific evidence that ...   \n",
       "1     El Niño drove record highs in global temperatu...   \n",
       "2                In 1946, PDO switched to a cool phase.   \n",
       "3     Weather Channel co-founder John Coleman provid...   \n",
       "4     \"January 2008 capped a 12 month period of glob...   \n",
       "...                                                 ...   \n",
       "1223  Climate scientists say that aspects of the cas...   \n",
       "1224  In its 5th assessment report in 2013, the IPCC...   \n",
       "1225  Since the mid 1970s, global temperatures have ...   \n",
       "1226  But abnormal temperature spikes in February an...   \n",
       "1227  Sending oscillating microwaves from an antenna...   \n",
       "\n",
       "                                              evidences            label  \n",
       "0     [At very high concentrations (100 times atmosp...         DISPUTED  \n",
       "1     [While ‘climate change’ can be due to natural ...          REFUTES  \n",
       "2     [There is evidence of reversals in the prevail...         SUPPORTS  \n",
       "3     [There is no convincing scientific evidence th...         DISPUTED  \n",
       "4     [With average temperature +8.1 °C (47 °F)., Th...  NOT_ENOUGH_INFO  \n",
       "...                                                 ...              ...  \n",
       "1223  [\"It's a fact: climate change made Hurricane H...         SUPPORTS  \n",
       "1224  [The scientific consensus as of 2013[update], ...         SUPPORTS  \n",
       "1225  [Global Warming of 1.5 °C., Multiple independe...  NOT_ENOUGH_INFO  \n",
       "1226  [A lower air temperature of −94.7 °C (−138.5 °...  NOT_ENOUGH_INFO  \n",
       "1227  [Dielectric heating, also known as electronic ...         SUPPORTS  \n",
       "\n",
       "[1228 rows x 3 columns]"
      ]
     },
     "execution_count": 3,
     "metadata": {},
     "output_type": "execute_result"
    }
   ],
   "source": [
    "# function to get the evidence for a claim\n",
    "def get_evidence(evidence_id):\n",
    "    return evidence_data[evidence_id]\n",
    "\n",
    "# function to get the claim text\n",
    "def get_claim_text(claim_id):\n",
    "    return train_data[claim_id]['claim_text']\n",
    "\n",
    "# function to get the label for a claim\n",
    "def get_label(claim_id):\n",
    "    return train_data[claim_id]['claim_label']\n",
    "\n",
    "# function to create a dataframe with the claim, evidence and label\n",
    "def create_dataframe(data):\n",
    "    rows = []\n",
    "    for claim_id in data:\n",
    "        row = {\n",
    "            'claim_text': get_claim_text(claim_id),\n",
    "            'evidences': [get_evidence(evidence_id=evidence_id) for evidence_id in train_data[claim_id]['evidences']],\n",
    "            'label': get_label(claim_id)\n",
    "        }\n",
    "        rows.append(row)\n",
    "    df = pd.concat([pd.DataFrame([row]) for row in rows], ignore_index=True)\n",
    "    return df\n",
    "\n",
    "\n",
    "# create the dataframes\n",
    "train_df = create_dataframe(train_data)\n",
    "#dev_df = create_dataframe(dev_data)\n",
    "\n",
    "#print entire evidence for a claim of the train_df\n",
    "train_df\n"
   ]
  },
  {
   "cell_type": "code",
   "execution_count": 4,
   "metadata": {},
   "outputs": [],
   "source": [
    "# preprocess the data\n",
    "import re\n",
    "import nltk\n",
    "from nltk.corpus import stopwords\n",
    "from nltk.stem import WordNetLemmatizer\n",
    "\n",
    "lemma = WordNetLemmatizer()\n",
    "\n",
    "# function to preprocess the text\n",
    "def preprocess_text(text):\n",
    "    text = text.lower()\n",
    "    # remove stopwords\n",
    "    text = ' '.join([lemma.lemmatize(word) for word in text.split() if word not in stopwords.words('english')])\n",
    "    \n",
    "    return text"
   ]
  },
  {
   "cell_type": "code",
   "execution_count": 5,
   "metadata": {},
   "outputs": [
    {
     "name": "stdout",
     "output_type": "stream",
     "text": [
      "1208827\n"
     ]
    }
   ],
   "source": [
    "#use tfidf to find the most important evidence for a claim\n",
    "from sklearn.feature_extraction.text import TfidfVectorizer\n",
    "\n",
    "\n",
    "claim = 'Not only is there no scientific evidence that CO2 is a pollutant, higher CO2 concentrations actually help ecosystems support more plant and animal life.'\n",
    "\n",
    "vectorizer = TfidfVectorizer()\n",
    "\n",
    "\n",
    "stop_words = set(stopwords.words('english'))\n",
    "preprocessed_corpus = [' '.join([lemma.lemmatize(word.lower()) for word in sentence.split() if word not in stop_words]) for key, sentence in evidence_data.items()]\n",
    "\n",
    "# get the most important evidence for a claim\n",
    "#get_most_important_evidence(claim, evidence_data)\n",
    "\n",
    "print(len(preprocessed_corpus))\n",
    "\n"
   ]
  },
  {
   "cell_type": "code",
   "execution_count": 49,
   "metadata": {},
   "outputs": [],
   "source": [
    "vectors = vectorizer.fit_transform(preprocessed_corpus)"
   ]
  },
  {
   "cell_type": "code",
   "execution_count": 50,
   "metadata": {},
   "outputs": [
    {
     "name": "stdout",
     "output_type": "stream",
     "text": [
      "[985452 364767 256886  66273 668884]\n",
      "-----Processed claims-------\n",
      "[\"the increased radiative forcing due increased co2 earth's atmosphere based physical property co2 non-saturated absorption window co2 absorbs outgoing long-wave energy.\\n\", 'it expected ecosystem affected higher atmospheric co2 level higher global temperatures.\\n', 'the concentration co2 flue gas important key determine efficiency co2 capture technology.\\n', 'higher atmospheric co2 concentration led increase dissolved co2, cause ocean acidification.\\n', 'co2).\\n']\n",
      "------Original Evidence-----\n",
      "[\"The increased radiative forcing due to increased CO2 in the Earth's atmosphere is based on the physical properties of CO2 and the non-saturated absorption windows where CO2 absorbs outgoing long-wave energy.\\n\", 'It is expected that most ecosystems will be affected by higher atmospheric CO2 levels and higher global temperatures.\\n', 'The concentration of CO2 in the flue gas is an important key to determine the efficiency of CO2 capture technology.\\n', 'Higher atmospheric CO2 concentrations have led to an increase in dissolved CO2, which causes ocean acidification.\\n', 'CO2).\\n']\n"
     ]
    }
   ],
   "source": [
    "# Process the claim\n",
    "processed_claim = preprocess_text(claim)\n",
    "\n",
    "# Get the tfidf vector for the claim\n",
    "claim_vector = vectorizer.transform([processed_claim])\n",
    "\n",
    "# Get the cosine similarity between the claim and the evidence\n",
    "from sklearn.metrics.pairwise import cosine_similarity\n",
    "\n",
    "cosine_similarity(claim_vector, vectors)\n",
    "\n",
    "# Get the top 5 most similar evidence\n",
    "top_5_ = cosine_similarity(claim_vector, vectors).argsort()[0][-5:]\n",
    "most_similar_evidence = [preprocessed_corpus[i] + \"\\n\" for i in cosine_similarity(claim_vector, vectors).argsort()[0][-5:]]\n",
    "# Get the top 5 most similar evidence unprocessed\n",
    "most_similar_evidence_unprocessed = [list(evidence_data.values())[i] + \"\\n\" for i in cosine_similarity(claim_vector, vectors).argsort()[0][-5:]]\n",
    "\n",
    "print(top_5_)\n",
    "print(\"-----Processed claims-------\")\n",
    "print(most_similar_evidence)\n",
    "print(\"------Original Evidence-----\")\n",
    "print(most_similar_evidence_unprocessed)\n",
    "\n"
   ]
  },
  {
   "cell_type": "code",
   "execution_count": 9,
   "metadata": {},
   "outputs": [
    {
     "data": {
      "text/plain": [
       "['At very high concentrations (100 times atmospheric concentration, or greater), carbon dioxide can be toxic to animal life, so raising the concentration to 10,000 ppm (1%) or higher for several hours will eliminate pests such as whiteflies and spider mites in a greenhouse.',\n",
       " 'Plants can grow as much as 50 percent faster in concentrations of 1,000 ppm CO 2 when compared with ambient conditions, though this assumes no change in climate and no limitation on other nutrients.',\n",
       " 'Higher carbon dioxide concentrations will favourably affect plant growth and demand for water.']"
      ]
     },
     "execution_count": 9,
     "metadata": {},
     "output_type": "execute_result"
    }
   ],
   "source": [
    "train_df.iloc[0]['evidences']"
   ]
  },
  {
   "cell_type": "markdown",
   "metadata": {},
   "source": [
    "**DOC2VEC**"
   ]
  },
  {
   "cell_type": "code",
   "execution_count": 6,
   "metadata": {},
   "outputs": [],
   "source": [
    "from gensim.models.doc2vec import Doc2Vec, TaggedDocument\n",
    "from nltk.corpus import stopwords\n",
    "from nltk.tokenize import word_tokenize\n",
    "from sklearn.metrics.pairwise import cosine_similarity\n",
    "import numpy as np\n",
    "from gensim.parsing.preprocessing import preprocess_documents\n",
    "\n",
    "processed_corpus = preprocess_documents(evidence_data.values())\n",
    "\n",
    "# Train Doc2Vec model on preprocessed corpus\n",
    "documents = [TaggedDocument(doc, [i]) for i, doc in enumerate(processed_corpus)]\n",
    "\n"
   ]
  },
  {
   "cell_type": "markdown",
   "metadata": {},
   "source": [
    "**ORIGINAL**"
   ]
  },
  {
   "cell_type": "code",
   "execution_count": 7,
   "metadata": {},
   "outputs": [],
   "source": [
    "model = Doc2Vec(documents, vector_size=20, window=4, min_count=2, workers=8)\n",
    "model.save(\"models/doc2vec2.model\")"
   ]
  },
  {
   "cell_type": "code",
   "execution_count": 9,
   "metadata": {},
   "outputs": [
    {
     "name": "stdout",
     "output_type": "stream",
     "text": [
      "[(224207, 0.7665451169013977), (242918, 0.738102912902832), (118000, 0.7309796214103699), (1140304, 0.7275773882865906), (1074523, 0.7186175584793091)]\n",
      "[224207, 242918, 118000, 1140304, 1074523]\n",
      "Claim:  Not only is there no scientific evidence that CO2 is a pollutant, higher CO2 concentrations actually help ecosystems support more plant and animal life.\n",
      "Top 5 results:\n",
      "0. Bioremediation is used to neutralize pollutants including Hydrocarbons, chlorinated compounds, nitrates, toxic metals and other pollutants through a variety of chemical mechanisms.\n",
      "1. In practical terms, if continued, it reduces valuable resources to such low levels that their exploitation is no longer sustainable and can lead to the extinction of a species, in addition to having dramatic, unforeseen effects, on the ecosystem.\n",
      "2. And from the year 2008 to the year 2012, environmental incidents and accidents reduced from 18 to 4.\n",
      "3. As of 2015, there are 10 active phosphate mines in four states : Florida, North Carolina, Idaho, and Utah.\n",
      "4. Rationality and sustainability is appropriate, and requires limits to overexploitation and pollution and efforts in conservation.\n"
     ]
    }
   ],
   "source": [
    "from gensim.parsing import preprocess_string\n",
    "#  Get the most similar evidence document to a claim\n",
    "def get_most_similar_evidence(claim, evidence_data, model, top_n=5):\n",
    "    # Preprocess claim\n",
    "    processed_claim = preprocess_string(claim)\n",
    "\n",
    "    # Get claim vector\n",
    "    claim_vector = model.infer_vector(processed_claim)\n",
    "    \n",
    "    # similar docs\n",
    "    similarity = model.dv.most_similar(claim_vector, topn=top_n)\n",
    "    print(similarity)\n",
    "    #top 5 indices\n",
    "    top_n_indices = [index for index, score in similarity]\n",
    "\n",
    "    # top 5 evidences\n",
    "    top_n_evidences = [evidence_data[index] for index in top_n_indices]\n",
    "    return  top_n_indices, top_n_evidences\n",
    "evidences = list(evidence_data.values())\n",
    "model = Doc2Vec.load(\"models/doc2vec2.model\")\n",
    "top_n_indices, top_n_evidences = get_most_similar_evidence(claim, evidences, model, top_n=5)\n",
    "\n",
    "\n",
    "print(top_n_indices)\n",
    "print(\"Claim: \", claim)\n",
    "print(\"Top 5 results:\")\n",
    "for i, evidence in enumerate(top_n_evidences):\n",
    "    print(f'{i}. {evidence}')\n"
   ]
  },
  {
   "cell_type": "code",
   "execution_count": 28,
   "metadata": {},
   "outputs": [
    {
     "data": {
      "text/plain": [
       "['At very high concentrations (100 times atmospheric concentration, or greater), carbon dioxide can be toxic to animal life, so raising the concentration to 10,000 ppm (1%) or higher for several hours will eliminate pests such as whiteflies and spider mites in a greenhouse.',\n",
       " 'Plants can grow as much as 50 percent faster in concentrations of 1,000 ppm CO 2 when compared with ambient conditions, though this assumes no change in climate and no limitation on other nutrients.',\n",
       " 'Higher carbon dioxide concentrations will favourably affect plant growth and demand for water.']"
      ]
     },
     "execution_count": 28,
     "metadata": {},
     "output_type": "execute_result"
    }
   ],
   "source": [
    "train_df.iloc[0]['evidences']"
   ]
  },
  {
   "cell_type": "code",
   "execution_count": 28,
   "metadata": {},
   "outputs": [
    {
     "name": "stdout",
     "output_type": "stream",
     "text": [
      "TaggedDocument<['john', 'bennet', 'law', 'english', 'entrepreneur', 'agricultur', 'scientist'], [0]>\n"
     ]
    }
   ],
   "source": [
    "print(documents[0])"
   ]
  },
  {
   "cell_type": "markdown",
   "metadata": {},
   "source": [
    "**BM25 attempt**"
   ]
  },
  {
   "cell_type": "markdown",
   "metadata": {},
   "source": []
  }
 ],
 "metadata": {
  "kernelspec": {
   "display_name": "Python 3.8.13",
   "language": "python",
   "name": "python3"
  },
  "language_info": {
   "codemirror_mode": {
    "name": "ipython",
    "version": 3
   },
   "file_extension": ".py",
   "mimetype": "text/x-python",
   "name": "python",
   "nbconvert_exporter": "python",
   "pygments_lexer": "ipython3",
   "version": "3.8.13"
  },
  "orig_nbformat": 4,
  "vscode": {
   "interpreter": {
    "hash": "0c8ff9150cc796902298ec52b5115e0f1f4f1773b1f4c5ddde98975e31aced34"
   }
  }
 },
 "nbformat": 4,
 "nbformat_minor": 2
}
