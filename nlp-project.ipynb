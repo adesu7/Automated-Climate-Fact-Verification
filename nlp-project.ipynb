{
 "cells": [
  {
   "cell_type": "code",
   "execution_count": 1,
   "metadata": {},
   "outputs": [],
   "source": [
    "import json\n",
    "import pandas as pd\n",
    "from gensim.parsing.preprocessing import preprocess_documents\n",
    "from gensim.models.doc2vec import Doc2Vec, TaggedDocument\n",
    "from nltk.corpus import stopwords\n",
    "from nltk.tokenize import word_tokenize\n",
    "from sklearn.metrics.pairwise import cosine_similarity\n",
    "import numpy as np\n",
    "from sklearn.feature_extraction.text import TfidfVectorizer\n",
    "from gensim.parsing import preprocess_string\n",
    "# preprocess the data\n",
    "import re\n",
    "from nltk.stem import WordNetLemmatizer\n",
    "import time\n",
    "import torch"
   ]
  },
  {
   "cell_type": "code",
   "execution_count": 2,
   "metadata": {},
   "outputs": [],
   "source": [
    "# Load the data\n",
    "with open('data/train-claims.json') as f:\n",
    "    train_data = json.load(f)\n",
    "\n",
    "with open('data/dev-claims.json') as f:\n",
    "    dev_data = json.load(f)\n",
    "\n",
    "with open('data/test-claims-unlabelled.json') as f:\n",
    "    test_data = json.load(f)\n",
    "\n",
    "with open('data/evidence.json') as f:\n",
    "    evidence_data = json.load(f)\n",
    "\n",
    "evidences = list(evidence_data.values())"
   ]
  },
  {
   "cell_type": "code",
   "execution_count": 3,
   "metadata": {},
   "outputs": [
    {
     "data": {
      "text/html": [
       "<div>\n",
       "<style scoped>\n",
       "    .dataframe tbody tr th:only-of-type {\n",
       "        vertical-align: middle;\n",
       "    }\n",
       "\n",
       "    .dataframe tbody tr th {\n",
       "        vertical-align: top;\n",
       "    }\n",
       "\n",
       "    .dataframe thead th {\n",
       "        text-align: right;\n",
       "    }\n",
       "</style>\n",
       "<table border=\"1\" class=\"dataframe\">\n",
       "  <thead>\n",
       "    <tr style=\"text-align: right;\">\n",
       "      <th></th>\n",
       "      <th>claim_text</th>\n",
       "      <th>evidence_text</th>\n",
       "      <th>label</th>\n",
       "    </tr>\n",
       "  </thead>\n",
       "  <tbody>\n",
       "    <tr>\n",
       "      <th>0</th>\n",
       "      <td>Not only is there no scientific evidence that ...</td>\n",
       "      <td>At very high concentrations (100 times atmosph...</td>\n",
       "      <td>DISPUTED</td>\n",
       "    </tr>\n",
       "    <tr>\n",
       "      <th>1</th>\n",
       "      <td>Not only is there no scientific evidence that ...</td>\n",
       "      <td>Plants can grow as much as 50 percent faster i...</td>\n",
       "      <td>DISPUTED</td>\n",
       "    </tr>\n",
       "    <tr>\n",
       "      <th>2</th>\n",
       "      <td>Not only is there no scientific evidence that ...</td>\n",
       "      <td>Higher carbon dioxide concentrations will favo...</td>\n",
       "      <td>DISPUTED</td>\n",
       "    </tr>\n",
       "    <tr>\n",
       "      <th>3</th>\n",
       "      <td>El Niño drove record highs in global temperatu...</td>\n",
       "      <td>While ‘climate change’ can be due to natural f...</td>\n",
       "      <td>REFUTES</td>\n",
       "    </tr>\n",
       "    <tr>\n",
       "      <th>4</th>\n",
       "      <td>El Niño drove record highs in global temperatu...</td>\n",
       "      <td>This acceleration is due mostly to human-cause...</td>\n",
       "      <td>REFUTES</td>\n",
       "    </tr>\n",
       "    <tr>\n",
       "      <th>...</th>\n",
       "      <td>...</td>\n",
       "      <td>...</td>\n",
       "      <td>...</td>\n",
       "    </tr>\n",
       "    <tr>\n",
       "      <th>4117</th>\n",
       "      <td>But abnormal temperature spikes in February an...</td>\n",
       "      <td>The coastline sees significantly mild temperat...</td>\n",
       "      <td>NOT_ENOUGH_INFO</td>\n",
       "    </tr>\n",
       "    <tr>\n",
       "      <th>4118</th>\n",
       "      <td>Sending oscillating microwaves from an antenna...</td>\n",
       "      <td>Dielectric heating, also known as electronic h...</td>\n",
       "      <td>SUPPORTS</td>\n",
       "    </tr>\n",
       "    <tr>\n",
       "      <th>4119</th>\n",
       "      <td>Sending oscillating microwaves from an antenna...</td>\n",
       "      <td>An example is absorption or emission of radio ...</td>\n",
       "      <td>SUPPORTS</td>\n",
       "    </tr>\n",
       "    <tr>\n",
       "      <th>4120</th>\n",
       "      <td>Sending oscillating microwaves from an antenna...</td>\n",
       "      <td>Water, fat, and other substances in the food a...</td>\n",
       "      <td>SUPPORTS</td>\n",
       "    </tr>\n",
       "    <tr>\n",
       "      <th>4121</th>\n",
       "      <td>Sending oscillating microwaves from an antenna...</td>\n",
       "      <td>A microwave oven passes microwave radiation at...</td>\n",
       "      <td>SUPPORTS</td>\n",
       "    </tr>\n",
       "  </tbody>\n",
       "</table>\n",
       "<p>4122 rows × 3 columns</p>\n",
       "</div>"
      ],
      "text/plain": [
       "                                             claim_text  \\\n",
       "0     Not only is there no scientific evidence that ...   \n",
       "1     Not only is there no scientific evidence that ...   \n",
       "2     Not only is there no scientific evidence that ...   \n",
       "3     El Niño drove record highs in global temperatu...   \n",
       "4     El Niño drove record highs in global temperatu...   \n",
       "...                                                 ...   \n",
       "4117  But abnormal temperature spikes in February an...   \n",
       "4118  Sending oscillating microwaves from an antenna...   \n",
       "4119  Sending oscillating microwaves from an antenna...   \n",
       "4120  Sending oscillating microwaves from an antenna...   \n",
       "4121  Sending oscillating microwaves from an antenna...   \n",
       "\n",
       "                                          evidence_text            label  \n",
       "0     At very high concentrations (100 times atmosph...         DISPUTED  \n",
       "1     Plants can grow as much as 50 percent faster i...         DISPUTED  \n",
       "2     Higher carbon dioxide concentrations will favo...         DISPUTED  \n",
       "3     While ‘climate change’ can be due to natural f...          REFUTES  \n",
       "4     This acceleration is due mostly to human-cause...          REFUTES  \n",
       "...                                                 ...              ...  \n",
       "4117  The coastline sees significantly mild temperat...  NOT_ENOUGH_INFO  \n",
       "4118  Dielectric heating, also known as electronic h...         SUPPORTS  \n",
       "4119  An example is absorption or emission of radio ...         SUPPORTS  \n",
       "4120  Water, fat, and other substances in the food a...         SUPPORTS  \n",
       "4121  A microwave oven passes microwave radiation at...         SUPPORTS  \n",
       "\n",
       "[4122 rows x 3 columns]"
      ]
     },
     "execution_count": 3,
     "metadata": {},
     "output_type": "execute_result"
    }
   ],
   "source": [
    "# function to get the evidence for a claim\n",
    "def get_evidence(evidence_id):\n",
    "    return evidence_data[evidence_id]\n",
    "\n",
    "# function to get the claim text\n",
    "def get_claim_text(claim_id):\n",
    "    return train_data[claim_id]['claim_text']\n",
    "\n",
    "# function to get the label for a claim\n",
    "def get_label(claim_id):\n",
    "    return train_data[claim_id]['claim_label']\n",
    "\n",
    "# function to create a dataframe with the claim, evidence and label\n",
    "def create_dataframe(data):\n",
    "    rows = []\n",
    "    for claim_id in data:\n",
    "        for evidence_id in train_data[claim_id]['evidences']:\n",
    "            row = {\n",
    "                'claim_text': get_claim_text(claim_id),\n",
    "                'evidence_text': get_evidence(evidence_id=evidence_id),\n",
    "                'label': get_label(claim_id)\n",
    "            }\n",
    "            rows.append(row)\n",
    "    df = pd.concat([pd.DataFrame([row]) for row in rows], ignore_index=True)\n",
    "    return df\n",
    "\n",
    "\n",
    "# create the dataframes\n",
    "train_df = create_dataframe(train_data)\n",
    "#dev_df = create_dataframe(dev_data)\n",
    "\n",
    "#print entire evidence for a claim of the train_df\n",
    "train_df\n"
   ]
  },
  {
   "cell_type": "code",
   "execution_count": null,
   "metadata": {},
   "outputs": [],
   "source": [
    "lemma = WordNetLemmatizer()\n",
    "\n",
    "# function to preprocess the text\n",
    "def preprocess_text(text):\n",
    "    text = text.lower()\n",
    "    # remove stopwords\n",
    "    text = ' '.join([lemma.lemmatize(word) for word in text.split() if word not in stopwords.words('english')])\n",
    "    \n",
    "    return text"
   ]
  },
  {
   "cell_type": "code",
   "execution_count": null,
   "metadata": {},
   "outputs": [],
   "source": [
    "#use tfidf to find the most important evidence for a claim\n",
    "\n",
    "\n",
    "\n",
    "claim = 'Not only is there no scientific evidence that CO2 is a pollutant, higher CO2 concentrations actually help ecosystems support more plant and animal life.'\n",
    "\n",
    "vectorizer = TfidfVectorizer()\n",
    "\n",
    "\n",
    "stop_words = set(stopwords.words('english'))\n",
    "preprocessed_corpus = [' '.join([lemma.lemmatize(word.lower()) for word in sentence.split() if word not in stop_words]) for key, sentence in evidence_data.items()]\n",
    "\n",
    "# get the most important evidence for a claim\n",
    "#get_most_important_evidence(claim, evidence_data)\n",
    "\n",
    "print(len(preprocessed_corpus))\n",
    "\n"
   ]
  },
  {
   "cell_type": "code",
   "execution_count": null,
   "metadata": {},
   "outputs": [],
   "source": [
    "vectors = vectorizer.fit_transform(preprocessed_corpus)"
   ]
  },
  {
   "cell_type": "code",
   "execution_count": null,
   "metadata": {},
   "outputs": [],
   "source": [
    "print(vectors.shape)"
   ]
  },
  {
   "cell_type": "code",
   "execution_count": null,
   "metadata": {},
   "outputs": [],
   "source": [
    "# Process the claim\n",
    "processed_claim = preprocess_text(claim)\n",
    "\n",
    "# Get the tfidf vector for the claim\n",
    "claim_vector = vectorizer.transform([processed_claim])\n",
    "\n",
    "# Get the cosine similarity between the claim and the evidence\n",
    "\n",
    "cosine_similarity(claim_vector, vectors)\n",
    "\n",
    "# Get the top 5 most similar evidence\n",
    "top_5_ = cosine_similarity(claim_vector, vectors).argsort()[0][-5:]\n",
    "most_similar_evidence = [preprocessed_corpus[i] + \"\\n\" for i in cosine_similarity(claim_vector, vectors).argsort()[0][-5:]]\n",
    "# Get the top 5 most similar evidence unprocessed\n",
    "most_similar_evidence_unprocessed = [list(evidence_data.values())[i] + \"\\n\" for i in cosine_similarity(claim_vector, vectors).argsort()[0][-5:]]\n",
    "\n",
    "print(top_5_)\n",
    "print(\"-----Processed claims-------\")\n",
    "print(most_similar_evidence)\n",
    "print(\"------Original Evidence-----\")\n",
    "print(most_similar_evidence_unprocessed)\n",
    "\n"
   ]
  },
  {
   "cell_type": "code",
   "execution_count": null,
   "metadata": {},
   "outputs": [],
   "source": [
    "train_df.iloc[0]['evidences']"
   ]
  },
  {
   "cell_type": "markdown",
   "metadata": {},
   "source": [
    "**DOC2VEC**"
   ]
  },
  {
   "cell_type": "code",
   "execution_count": null,
   "metadata": {},
   "outputs": [],
   "source": [
    "\n",
    "\n",
    "#processed_corpus = [doc.split(\" \") for doc in preprocessed_corpus]\n",
    "#tokenised_corpus = preprocess_documents(evidences)\n",
    "# Train Doc2Vec model on preprocessed corpus\n",
    "#documents = [TaggedDocument(doc, [i]) for i, doc in enumerate(tokenised_corpus)]\n",
    "\n"
   ]
  },
  {
   "cell_type": "code",
   "execution_count": null,
   "metadata": {},
   "outputs": [],
   "source": [
    "model = Doc2Vec(documents, vector_size=45, window=2, min_count=1, workers=8)\n",
    "model.save(\"models/doc2vec.model\")\n"
   ]
  },
  {
   "cell_type": "code",
   "execution_count": null,
   "metadata": {},
   "outputs": [],
   "source": [
    "\n",
    "#  Get the most similar evidence document to a claim\n",
    "def get_most_similar_evidence(claim, evidence_data, model, top_n=10):\n",
    "    # Preprocess claim\n",
    "    processed_claim = preprocess_string(claim)\n",
    "\n",
    "    # Get claim vector\n",
    "    claim_vector = model.infer_vector(processed_claim)\n",
    "    \n",
    "    # similar docs\n",
    "    similarity = model.dv.most_similar(claim_vector, topn=top_n)\n",
    "    print(similarity)\n",
    "    #top 5 indices\n",
    "    top_n_indices = [index for index, score in similarity]\n",
    "\n",
    "    # top 5 evidences\n",
    "    top_n_evidences = [evidence_data[index] for index in top_n_indices]\n",
    "    return  top_n_indices, top_n_evidences\n",
    "\n",
    "model = Doc2Vec.load(\"models/doc2vec.model\")\n",
    "claim = 'Not only is there no scientific evidence that CO2 is a pollutant, higher CO2 concentrations actually help ecosystems support more plant and animal life.'\n",
    "top_n_indices, top_n_evidences = get_most_similar_evidence(claim, evidences, model, top_n=10)\n",
    "\n",
    "print(\"Claim: \", claim)\n",
    "print(\"Top 10 results:\")\n",
    "for i, evidence in enumerate(top_n_evidences):\n",
    "    print(f'{i+1}. {evidence}')\n"
   ]
  },
  {
   "cell_type": "code",
   "execution_count": null,
   "metadata": {},
   "outputs": [],
   "source": []
  },
  {
   "cell_type": "markdown",
   "metadata": {},
   "source": [
    "**BM25 attempt**"
   ]
  },
  {
   "cell_type": "code",
   "execution_count": null,
   "metadata": {},
   "outputs": [],
   "source": [
    "from rank_bm25 import BM25Okapi\n",
    "\n",
    "tokenised_corpus = preprocess_documents(evidences)\n",
    "bm25 = BM25Okapi(tokenised_corpus)"
   ]
  },
  {
   "cell_type": "code",
   "execution_count": null,
   "metadata": {},
   "outputs": [],
   "source": [
    "\n",
    "#tokenised_corpus = [doc.split(\" \") for doc in preprocessed_corpus]\n",
    "\n",
    "# Initialize BM25 object\n",
    "\n",
    "claim = 'Not only is there no scientific evidence that CO2 is a pollutant, higher CO2 concentrations actually help ecosystems support more plant and animal life.'\n",
    "processed_claim = preprocess_string(claim)\n",
    "print(processed_claim)\n",
    "# Get BM25 scores for each evidence sentence\n",
    "bm25_scores = bm25.get_scores(processed_claim)\n",
    "\n"
   ]
  },
  {
   "cell_type": "code",
   "execution_count": 31,
   "metadata": {},
   "outputs": [
    {
     "name": "stdout",
     "output_type": "stream",
     "text": [
      "-----Processed claims-------\n",
      "['scientif', 'evid', 'pollut', 'higher', 'concentr', 'actual', 'help', 'ecosystem', 'support', 'plant', 'anim', 'life']\n",
      "------BM25 Evidence-----\n",
      "1. The whitebark pine ecosystem in these high elevations plays many essential roles, providing support to plant and animal life.\n",
      "2. The concentration of pollutants in the flue gas is higher, making separation easier.\n",
      "3. They study the various animals and plants that live within an ecosystem and the relationship between the two.\n",
      "4. He helped to organize cultural life in Theresienstadt concentration camp.\n",
      "5. Diverse forest plant life exists in the park and the area supports several wild animal species.\n",
      "6. At very high concentrations (100 times atmospheric concentration, or greater), carbon dioxide can be toxic to animal life, so raising the concentration to 10,000 ppm (1%) or higher for several hours will eliminate pests such as whiteflies and spider mites in a greenhouse.\n",
      "7. This scientific evidence comes from many sources but is presented in detail in the Millennium Ecosystem Assessment and the planetary boundaries framework.\n",
      "8. Animal and plant life have not evolved much during the relatively short Holocene, but there have been major shifts in the distributions of plants and animals.\n",
      "9. As part of the wilderness system, it helps to preserve a variety of natural life forms and contributes to a diversity of plant and animal gene pools.\n",
      "10. Other anecdotal evidence, however, does not qualify as scientific evidence, because its nature prevents it from being investigated by the scientific method.\n",
      "11. Paine gave the profits her family, and she helped support them throughout most of her life.\n",
      "12. Mutual support guilds are groups of animals, insects, plants, etc.\n",
      "13. Higher carbon dioxide concentrations will favourably affect plant growth and demand for water.\n",
      "14. Scavengers play an important role in the ecosystem by consuming the dead animal and plant material.\n",
      "15. This is caused by a much higher concentration of Cl − concentration in the cytoplasm of neonatal neurons.\n",
      "16. Sustainable agriculture is the cultivation of plant and animal materials in a manner that preserves plant and animal ecosystems and that can improve soil health and soil fertility over the long term.\n",
      "17. This, along with higher temperatures, would mean a higher equilibrium concentration of in the air.\n",
      "18. Ecosystems tie into human societies through the critical and all encompassing life-supporting functions they sustain.\n",
      "19. Moses is a British documentary programme that chronicles the life of Moses using scientific and contemporary historical evidence.\n",
      "20. A few other commentators such as Roger A. Pielke said that the evidence supported claims that dissenting scientific papers had been suppressed.\n",
      "------Original Evidence-----\n",
      "['At very high concentrations (100 times atmospheric concentration, or greater), carbon dioxide can be toxic to animal life, so raising the concentration to 10,000 ppm (1%) or higher for several hours will eliminate pests such as whiteflies and spider mites in a greenhouse.', 'Plants can grow as much as 50 percent faster in concentrations of 1,000 ppm CO 2 when compared with ambient conditions, though this assumes no change in climate and no limitation on other nutrients.', 'Higher carbon dioxide concentrations will favourably affect plant growth and demand for water.']\n"
     ]
    }
   ],
   "source": [
    "# Get top 5 most similar evidence sentences\n",
    "top_5_indices = bm25_scores.argsort()[::-1][:20]\n",
    "most_similar_evidence = [list(evidence_data.values())[i] for i in top_5_indices]\n",
    "#best_evidence = bm25.get_top_n(processed_claim, evidences, n=20)\n",
    "# Print results\n",
    "print(\"-----Processed claims-------\")\n",
    "print(processed_claim)\n",
    "\n",
    "print(\"------BM25 Evidence-----\")\n",
    "for i, evidence in enumerate(most_similar_evidence):\n",
    "    print(f'{i+1}. {evidence}')\n",
    "print(\"------Original Evidence-----\")\n",
    "print(train_df.iloc[0]['evidences'])"
   ]
  },
  {
   "cell_type": "markdown",
   "metadata": {},
   "source": [
    "**BERT ATTEMPT**"
   ]
  },
  {
   "cell_type": "code",
   "execution_count": null,
   "metadata": {},
   "outputs": [],
   "source": [
    "query = \"What is the capital of France?\"\n",
    "passages = [\n",
    "    \"Paris is the capital of France.\",\n",
    "    \"The Eiffel Tower is located in Paris.\",\n",
    "    \"France is famous for its wine and cheese.\",\n",
    "    \"The Louvre is a famous museum in Paris.\",\n",
    "    \"The French Revolution started in 1789.\",\n",
    "]\n",
    "\n",
    "\n"
   ]
  },
  {
   "cell_type": "code",
   "execution_count": 32,
   "metadata": {},
   "outputs": [
    {
     "name": "stdout",
     "output_type": "stream",
     "text": [
      "99.15361022949219 At very high concentrations (100 times atmospheric concentration, or greater), carbon dioxide can be toxic to animal life, so raising the concentration to 10,000 ppm (1%) or higher for several hours will eliminate pests such as whiteflies and spider mites in a greenhouse.\n",
      "96.01148986816406 Higher carbon dioxide concentrations will favourably affect plant growth and demand for water.\n",
      "91.10009765625 The whitebark pine ecosystem in these high elevations plays many essential roles, providing support to plant and animal life.\n",
      "90.88199615478516 Scavengers play an important role in the ecosystem by consuming the dead animal and plant material.\n",
      "90.53111267089844 Sustainable agriculture is the cultivation of plant and animal materials in a manner that preserves plant and animal ecosystems and that can improve soil health and soil fertility over the long term.\n",
      "90.40798950195312 The concentration of pollutants in the flue gas is higher, making separation easier.\n",
      "90.39140319824219 They study the various animals and plants that live within an ecosystem and the relationship between the two.\n",
      "89.62547302246094 As part of the wilderness system, it helps to preserve a variety of natural life forms and contributes to a diversity of plant and animal gene pools.\n",
      "88.9307632446289 This scientific evidence comes from many sources but is presented in detail in the Millennium Ecosystem Assessment and the planetary boundaries framework.\n",
      "88.57135772705078 Animal and plant life have not evolved much during the relatively short Holocene, but there have been major shifts in the distributions of plants and animals.\n",
      "88.33026123046875 Ecosystems tie into human societies through the critical and all encompassing life-supporting functions they sustain.\n",
      "87.3492431640625 Other anecdotal evidence, however, does not qualify as scientific evidence, because its nature prevents it from being investigated by the scientific method.\n",
      "87.13348388671875 Mutual support guilds are groups of animals, insects, plants, etc.\n",
      "86.46195983886719 Diverse forest plant life exists in the park and the area supports several wild animal species.\n",
      "85.88229370117188 This, along with higher temperatures, would mean a higher equilibrium concentration of in the air.\n",
      "85.79580688476562 A few other commentators such as Roger A. Pielke said that the evidence supported claims that dissenting scientific papers had been suppressed.\n",
      "83.76795196533203 This is caused by a much higher concentration of Cl − concentration in the cytoplasm of neonatal neurons.\n",
      "83.36402130126953 Paine gave the profits her family, and she helped support them throughout most of her life.\n",
      "82.95854949951172 He helped to organize cultural life in Theresienstadt concentration camp.\n",
      "82.30078125 Moses is a British documentary programme that chronicles the life of Moses using scientific and contemporary historical evidence.\n"
     ]
    }
   ],
   "source": [
    "from sentence_transformers import SentenceTransformer, util\n",
    "\n",
    "#query = \"How many people live in London?\"\n",
    "#docs = [\"Around 9 Million people live in London\", \"London is known for its financial district\"]\n",
    "mps_device = torch.device(\"mps\")\n",
    "#Load the model\n",
    "model = SentenceTransformer('sentence-transformers/msmarco-distilbert-base-tas-b',device=mps_device)\n",
    "\n",
    "#Encode query and documents\n",
    "query_emb = model.encode(claim)\n",
    "doc_emb = model.encode(most_similar_evidence)\n",
    "\n",
    "#Compute dot score between query and all document embeddings\n",
    "scores = util.dot_score(query_emb, doc_emb)[0].cpu().tolist()\n",
    "\n",
    "#Combine docs & scores\n",
    "doc_score_pairs = list(zip(most_similar_evidence, scores))\n",
    "\n",
    "#Sort by decreasing score\n",
    "doc_score_pairs = sorted(doc_score_pairs, key=lambda x: x[1], reverse=True)\n",
    "\n",
    "#Output passages & scores\n",
    "for doc, score in doc_score_pairs:\n",
    "    print(score, doc)\n"
   ]
  },
  {
   "cell_type": "markdown",
   "metadata": {},
   "source": [
    "**Saved embedding of evidence document**"
   ]
  },
  {
   "cell_type": "code",
   "execution_count": null,
   "metadata": {},
   "outputs": [],
   "source": [
    "# # Define batch size\n",
    "# batch_size = 1000\n",
    "\n",
    "# # Encode documents in batches\n",
    "# doc_emb = []\n",
    "# for i in range(0, len(evidences), batch_size):\n",
    "#   start_time = time.time()\n",
    "#   batch = evidences[i:i+batch_size]\n",
    "#   batch_emb = model.encode(batch)\n",
    "#   doc_emb.append(batch_emb)\n",
    "#   print(f\"Batch {i} processed time taken {time.time()- start_time}\")\n",
    "# doc_emb = np.concatenate(doc_emb, axis=0)\n",
    "# # Save document embeddings as a NumPy array\n",
    "# np.save('doc_emb.npy', doc_emb)"
   ]
  },
  {
   "cell_type": "code",
   "execution_count": 28,
   "metadata": {},
   "outputs": [
    {
     "name": "stdout",
     "output_type": "stream",
     "text": [
      "103.17140197753906 On July 21, 2011, while a guest on the show, he stated: \"To suggest that CO2's a pollutant when it's an extremely important gas in the atmosphere for all plant life and therefore for the oxygen that's produced, is just nonsense.\n",
      "100.86476135253906 Studies have shown that higher CO2 levels lead to reduced plant uptake of nitrogen (and a smaller number showing the same for trace elements such as zinc) resulting in crops with lower nutritional value.\n",
      "99.15360260009766 At very high concentrations (100 times atmospheric concentration, or greater), carbon dioxide can be toxic to animal life, so raising the concentration to 10,000 ppm (1%) or higher for several hours will eliminate pests such as whiteflies and spider mites in a greenhouse.\n",
      "99.1375732421875 On the contrary, some microbes can deteriorate the environment: which can lead to elevated SO4 in the water and can also increase microbial production of hydrogen sulfide, a toxin for many aquatic plants and organisms.\n",
      "98.22985076904297 While the full implications of elevated CO2 on marine ecosystems are still being documented, there is a substantial body of research showing that a combination of ocean acidification and elevated ocean temperature, driven mainly by CO2 and other greenhouse gas emissions, have a compounded effect on marine life and the ocean environment.\n",
      "97.85633850097656 Adequate levels of CO2 must be maintained for the plants to grow efficiently.\n",
      "97.52098083496094 The CO2 fertiliser effect has been greatly overestimated during Free-Air Carbon dioxide Enrichment (FACE) experiments where results show increased CO2 levels in the atmosphere enhances photosynthesis, reduce transpiration, and increase water use efficiency (WUE).\n",
      "97.31623077392578 Although the natural absorption of CO 2 by the world's oceans helps mitigate the climatic effects of anthropogenic emissions of CO 2, it is believed that the resulting decrease in pH will have negative consequences, primarily for oceanic calcifying organisms.\n",
      "97.25167083740234 While increased CO 2 levels help crop growth at lower temperature increases, those crops do become less nutritious.\n",
      "97.18220520019531 In 2007 climate scientists of the IPCC concluded that there was at least a 90% probability that atmospheric increase in CO2 was human-induced, mostly as a result of fossil fuel emissions but, to a lesser extent from changes in land use.\n",
      "97.0544662475586 The spread of land plants is thought to have reduced CO 2 concentrations during the late Devonian, and plant activities as both sources and sinks of CO 2 have since been important in providing stabilising feedbacks.\n"
     ]
    }
   ],
   "source": [
    "query_emb = model.encode(claim)\n",
    "#Compute dot score between query and all document embeddings\n",
    "scores = util.dot_score(query_emb, doc_emb)[0].cpu().tolist()\n",
    "\n",
    "#Combine docs & scores\n",
    "doc_score_pairs = list(zip(evidences, scores))\n",
    "\n",
    "#Sort by decreasing score\n",
    "doc_score_pairs = sorted(doc_score_pairs, key=lambda x: x[1], reverse=True)\n",
    "\n",
    "threshold = 9\n",
    "#Output passages & scores\n",
    "for i, (doc, score) in enumerate(doc_score_pairs):\n",
    "  if i > 10:\n",
    "    break\n",
    "  print(score, doc)"
   ]
  },
  {
   "cell_type": "code",
   "execution_count": 42,
   "metadata": {},
   "outputs": [
    {
     "name": "stdout",
     "output_type": "stream",
     "text": [
      "('At very high concentrations (100 times atmospheric concentration, or greater), carbon dioxide can be toxic to animal life, so raising the concentration to 10,000 ppm (1%) or higher for several hours will eliminate pests such as whiteflies and spider mites in a greenhouse.', 'Plants can grow as much as 50 percent faster in concentrations of 1,000 ppm CO 2 when compared with ambient conditions, though this assumes no change in climate and no limitation on other nutrients.', 'Higher carbon dioxide concentrations will favourably affect plant growth and demand for water.')\n"
     ]
    }
   ],
   "source": [
    "train_df.iloc[0]['evidences']\n",
    "temp_evidences= 'At very high concentrations (100 times atmospheric concentration, or greater), carbon dioxide can be toxic to animal life, so raising the concentration to 10,000 ppm (1%) or higher for several hours will eliminate pests such as whiteflies and spider mites in a greenhouse.', 'Plants can grow as much as 50 percent faster in concentrations of 1,000 ppm CO 2 when compared with ambient conditions, though this assumes no change in climate and no limitation on other nutrients.', 'Higher carbon dioxide concentrations will favourably affect plant growth and demand for water.'\n",
    "print(temp_evidences)"
   ]
  },
  {
   "cell_type": "code",
   "execution_count": 1,
   "metadata": {},
   "outputs": [
    {
     "ename": "",
     "evalue": "",
     "output_type": "error",
     "traceback": [
      "\u001b[1;31mThe Kernel crashed while executing code in the the current cell or a previous cell. Please review the code in the cell(s) to identify a possible cause of the failure. Click <a href='https://aka.ms/vscodeJupyterKernelCrash'>here</a> for more info. View Jupyter <a href='command:jupyter.viewOutput'>log</a> for further details."
     ]
    },
    {
     "ename": "",
     "evalue": "",
     "output_type": "error",
     "traceback": [
      "\u001b[1;31mCanceled future for execute_request message before replies were done"
     ]
    }
   ],
   "source": [
    "from transformers import AutoTokenizer, AutoModelForSequenceClassification\n",
    "import torch\n",
    "mps_device = torch.device(\"mps\")\n",
    "model = AutoModelForSequenceClassification.from_pretrained(\"climatebert/distilroberta-base-climate-f\")\n",
    "model.to(mps_device)\n",
    "tokenizer = AutoTokenizer.from_pretrained(\"climatebert/distilroberta-base-climate-f\")\n",
    "\n",
    "claim = 'Not only is there no scientific evidence that CO2 is a pollutant, higher CO2 concentrations actually help ecosystems support more plant and animal life.'\n",
    "evidence = \"Many studies have shown that human activity, such as burning fossil fuels and deforestation, contributes significantly to climate change.\"\n",
    "\n",
    "inputs = tokenizer(claim, temp_evidences, padding='max_length', truncation=True, return_tensors=\"pt\", max_length=512)\n",
    "\n",
    "model.eval()\n",
    "with torch.no_grad():\n",
    "    scores = model(**inputs).logits\n",
    "    label_mapping = ['not enough info', 'supports', 'refutes']\n",
    "    labels = [label_mapping[score_max] for score_max in scores.argmax(dim=1)]\n",
    "    print(labels)\n"
   ]
  }
 ],
 "metadata": {
  "kernelspec": {
   "display_name": "Python 3.8.13",
   "language": "python",
   "name": "python3"
  },
  "language_info": {
   "codemirror_mode": {
    "name": "ipython",
    "version": 3
   },
   "file_extension": ".py",
   "mimetype": "text/x-python",
   "name": "python",
   "nbconvert_exporter": "python",
   "pygments_lexer": "ipython3",
   "version": "3.8.13"
  },
  "orig_nbformat": 4,
  "vscode": {
   "interpreter": {
    "hash": "0c8ff9150cc796902298ec52b5115e0f1f4f1773b1f4c5ddde98975e31aced34"
   }
  }
 },
 "nbformat": 4,
 "nbformat_minor": 2
}
